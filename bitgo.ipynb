{
 "cells": [
  {
   "cell_type": "code",
   "execution_count": 1,
   "metadata": {},
   "outputs": [],
   "source": [
    "import requests\n",
    "import json\n",
    "import os\n",
    "from icecream import ic\n",
    "from dotenv import load_dotenv\n",
    "load_dotenv()\n",
    "# ic.enable()\n",
    "\n",
    "\n",
    "# base_url = \"https://app.bitgo-test.com\"\n",
    "base_url = \"http://localhost:3080\""
   ]
  },
  {
   "cell_type": "code",
   "execution_count": 2,
   "metadata": {},
   "outputs": [],
   "source": [
    "'''\n",
    "  Get Enterprise by enterprise ID\n",
    "'''\n",
    "\n",
    "enterprise_id = '61f3197ab3b1da000795bc6adf8c063d'\n",
    "BITGO_ACCESS_TOKEN = os.getenv('BITGO_ACCESS_TOKEN')\n",
    "\n",
    "url = f\"{base_url}/api/v2/enterprise/{enterprise_id}\"\n",
    "payload = \"\"\n",
    "headers = {\n",
    "  'Content-Type': 'application/json',\n",
    "  'Authorization': f'Bearer {BITGO_ACCESS_TOKEN}'\n",
    "}\n",
    "response = requests.request(\"GET\", url, headers=headers, data=payload).json()"
   ]
  },
  {
   "cell_type": "code",
   "execution_count": 3,
   "metadata": {},
   "outputs": [
    {
     "name": "stdout",
     "output_type": "stream",
     "text": [
      "3\n"
     ]
    }
   ],
   "source": [
    "'''\n",
    "    List wallets\n",
    "'''\n",
    "\n",
    "BITGO_ACCESS_TOKEN = os.getenv('BITGO_ACCESS_TOKEN')\n",
    "\n",
    "url = f\"{base_url}/api/v2/wallets\"\n",
    "payload = \"\"\n",
    "headers = {\n",
    "  'Content-Type': 'application/json',\n",
    "  'Authorization': f'Bearer {BITGO_ACCESS_TOKEN}'\n",
    "}\n",
    "response = requests.request(\"GET\", url, headers=headers, data=payload).json()\n",
    "print(len(response['wallets']))"
   ]
  },
  {
   "cell_type": "code",
   "execution_count": 4,
   "metadata": {},
   "outputs": [
    {
     "name": "stdout",
     "output_type": "stream",
     "text": [
      "3\n"
     ]
    }
   ],
   "source": [
    "'''\n",
    "    List wallets by coin\n",
    "'''\n",
    "\n",
    "BITGO_ACCESS_TOKEN = os.getenv('BITGO_ACCESS_TOKEN')\n",
    "coin = 'tbtc'\n",
    "\n",
    "url = f\"{base_url}/api/v2/{coin}/wallet\"\n",
    "payload = \"\"\n",
    "headers = {\n",
    "  'Content-Type': 'application/json',\n",
    "  'Authorization': f'Bearer {BITGO_ACCESS_TOKEN}'\n",
    "}\n",
    "response = requests.request(\"GET\", url, headers=headers, data=payload).json()\n",
    "print(len(response['wallets']))"
   ]
  },
  {
   "cell_type": "code",
   "execution_count": 5,
   "metadata": {},
   "outputs": [
    {
     "name": "stdout",
     "output_type": "stream",
     "text": [
      "{'id': '61f991871d3e470007a823f00bc33b68', 'users': [{'user': '61f31878b3b1da000795bbe8b52e7e50', 'permissions': ['admin', 'view', 'spend']}], 'coin': 'tbtc', 'label': 'TBTC-Warm-HB', 'm': 2, 'n': 3, 'keys': ['61f99146a743ed000705cb4ed84a7a01', '61f99149fd232d00072adcee78a75047', '61f9914a20e17d0007d04fd9a5f8663f'], 'keySignatures': {}, 'enterprise': '61f3197ab3b1da000795bc6adf8c063d', 'tags': ['61f991871d3e470007a823f00bc33b68', '61f3197ab3b1da000795bc6adf8c063d'], 'disableTransactionNotifications': False, 'freeze': {}, 'deleted': False, 'approvalsRequired': 1, 'isCold': False, 'coinSpecific': {}, 'admin': {'policy': {'date': '2022-02-01T20:01:11.146Z', 'id': '61f991871d3e470007a823f7eb28d67b', 'label': 'default', 'rules': [], 'version': 0, 'latest': True}}, 'clientFlags': [], 'allowBackupKeySigning': False, 'recoverable': True, 'startDate': '2022-02-01T20:01:11.000Z', 'type': 'hot', 'buildDefaults': {}, 'customChangeKeySignatures': {}, 'hasLargeNumberOfAddresses': False, 'config': {}, 'balance': 3117909, 'confirmedBalance': 3117909, 'spendableBalance': 3117909, 'balanceString': '3117909', 'confirmedBalanceString': '3117909', 'spendableBalanceString': '3117909', 'receiveAddress': {'id': '61fd6773675d1000076e8cb0b267e61b', 'address': '2MtddzF76GoxJJrcK6E5spXwt1uGMrBfTwr', 'chain': 10, 'index': 6, 'coin': 'tbtc', 'wallet': '61f991871d3e470007a823f00bc33b68', 'coinSpecific': {'redeemScript': '00208439600353451e34f419081f6ece9303756988f6c3e9fa780cfa50ad0b75dfb7', 'witnessScript': '522102564efcebb21d5be3d168fda71d3bb19f80c15fad523ea12d8d875ecdcf2806ac2103c4b83f4e123f2dc98b2be273fbb1ee88782c8bccb587b24ea7959453dcfdc73621028c313528bd6dfc295c2d71c35ec734d76c3f2d107329dc4f9c49aeb4880b153853ae'}}, 'pendingApprovals': []}\n"
     ]
    }
   ],
   "source": [
    "'''\n",
    "    Get wallet by address\n",
    "'''\n",
    "\n",
    "BITGO_ACCESS_TOKEN = os.getenv('BITGO_ACCESS_TOKEN')\n",
    "coin = 'tbtc'\n",
    "address = '2Mu7ZZQ72jQCG3Y5NNaEZ5DvcWWTb3mu4jt'\n",
    "\n",
    "url = f\"{base_url}/api/v2/{coin}/wallet/address/{address}\"\n",
    "payload = \"\"\n",
    "headers = {\n",
    "  'Content-Type': 'application/json',\n",
    "  'Authorization': f'Bearer {BITGO_ACCESS_TOKEN}'\n",
    "}\n",
    "response = requests.request(\"GET\", url, headers=headers, data=payload).json()\n",
    "print(response)"
   ]
  },
  {
   "cell_type": "code",
   "execution_count": 6,
   "metadata": {},
   "outputs": [
    {
     "name": "stdout",
     "output_type": "stream",
     "text": [
      "{'id': '61f991871d3e470007a823f00bc33b68', 'users': [{'user': '61f31878b3b1da000795bbe8b52e7e50', 'permissions': ['admin', 'view', 'spend']}], 'coin': 'tbtc', 'label': 'TBTC-Warm-HB', 'm': 2, 'n': 3, 'keys': ['61f99146a743ed000705cb4ed84a7a01', '61f99149fd232d00072adcee78a75047', '61f9914a20e17d0007d04fd9a5f8663f'], 'keySignatures': {}, 'enterprise': '61f3197ab3b1da000795bc6adf8c063d', 'tags': ['61f991871d3e470007a823f00bc33b68', '61f3197ab3b1da000795bc6adf8c063d'], 'disableTransactionNotifications': False, 'freeze': {}, 'deleted': False, 'approvalsRequired': 1, 'isCold': False, 'coinSpecific': {}, 'admin': {'policy': {'date': '2022-02-01T20:01:11.146Z', 'id': '61f991871d3e470007a823f7eb28d67b', 'label': 'default', 'rules': [], 'version': 0, 'latest': True}}, 'clientFlags': [], 'allowBackupKeySigning': False, 'recoverable': True, 'startDate': '2022-02-01T20:01:11.000Z', 'type': 'hot', 'buildDefaults': {}, 'customChangeKeySignatures': {}, 'hasLargeNumberOfAddresses': False, 'config': {}, 'balance': 3117909, 'confirmedBalance': 3117909, 'spendableBalance': 3117909, 'balanceString': '3117909', 'confirmedBalanceString': '3117909', 'spendableBalanceString': '3117909', 'receiveAddress': {'id': '61fd6773675d1000076e8cb0b267e61b', 'address': '2MtddzF76GoxJJrcK6E5spXwt1uGMrBfTwr', 'chain': 10, 'index': 6, 'coin': 'tbtc', 'wallet': '61f991871d3e470007a823f00bc33b68', 'coinSpecific': {'redeemScript': '00208439600353451e34f419081f6ece9303756988f6c3e9fa780cfa50ad0b75dfb7', 'witnessScript': '522102564efcebb21d5be3d168fda71d3bb19f80c15fad523ea12d8d875ecdcf2806ac2103c4b83f4e123f2dc98b2be273fbb1ee88782c8bccb587b24ea7959453dcfdc73621028c313528bd6dfc295c2d71c35ec734d76c3f2d107329dc4f9c49aeb4880b153853ae'}}, 'pendingApprovals': []}\n"
     ]
    }
   ],
   "source": [
    "'''\n",
    "    Get wallet by ID\n",
    "'''\n",
    "\n",
    "BITGO_ACCESS_TOKEN = os.getenv('BITGO_ACCESS_TOKEN')\n",
    "coin = 'tbtc'\n",
    "wallet_id = '61f991871d3e470007a823f00bc33b68'\n",
    "\n",
    "url = f\"{base_url}/api/v2/{coin}/wallet/{wallet_id}\"\n",
    "payload = \"\"\n",
    "headers = {\n",
    "  'Content-Type': 'application/json',\n",
    "  'Authorization': f'Bearer {BITGO_ACCESS_TOKEN}'\n",
    "}\n",
    "response = requests.request(\"GET\", url, headers=headers, data=payload).json()\n",
    "print(response)"
   ]
  },
  {
   "cell_type": "code",
   "execution_count": 7,
   "metadata": {},
   "outputs": [
    {
     "name": "stdout",
     "output_type": "stream",
     "text": [
      "{'maximumSpendable': '3117084', 'coin': 'tbtc'}\n"
     ]
    }
   ],
   "source": [
    "'''\n",
    "    Get maximum spendable\n",
    "'''\n",
    "\n",
    "BITGO_ACCESS_TOKEN = os.getenv('BITGO_ACCESS_TOKEN')\n",
    "coin = 'tbtc'\n",
    "wallet_id = '61f991871d3e470007a823f00bc33b68'\n",
    "\n",
    "url = f\"{base_url}/api/v2/{coin}/wallet/{wallet_id}/maximumSpendable\"\n",
    "payload = \"\"\n",
    "headers = {\n",
    "  'Content-Type': 'application/json',\n",
    "  'Authorization': f'Bearer {BITGO_ACCESS_TOKEN}'\n",
    "}\n",
    "response = requests.request(\"GET\", url, headers=headers, data=payload).json()\n",
    "print(response)"
   ]
  },
  {
   "cell_type": "code",
   "execution_count": 28,
   "metadata": {},
   "outputs": [
    {
     "name": "stdout",
     "output_type": "stream",
     "text": [
      "{'velocityLimitSpending': []}\n"
     ]
    }
   ],
   "source": [
    "'''\n",
    "    Get spending limits and current amount spent\n",
    "'''\n",
    "\n",
    "BITGO_ACCESS_TOKEN = os.getenv('BITGO_ACCESS_TOKEN')\n",
    "coin = 'tbtc'\n",
    "wallet_id = '61f991871d3e470007a823f00bc33b68'\n",
    "\n",
    "url = f\"{base_url}/api/v2/{coin}/wallet/{wallet_id}/spending\"\n",
    "payload = \"\"\n",
    "headers = {\n",
    "  'Content-Type': 'application/json',\n",
    "  'Authorization': f'Bearer {BITGO_ACCESS_TOKEN}'\n",
    "}\n",
    "response = requests.request(\"GET\", url, headers=headers, data=payload).json()\n",
    "print(response)"
   ]
  },
  {
   "cell_type": "code",
   "execution_count": 29,
   "metadata": {},
   "outputs": [
    {
     "name": "stdout",
     "output_type": "stream",
     "text": [
      "{'balances': [{'coin': 'tbtc', 'balanceString': '7017678', 'confirmedBalanceString': '7017678'}]}\n"
     ]
    }
   ],
   "source": [
    "'''\n",
    "    List total balances\n",
    "'''\n",
    "\n",
    "BITGO_ACCESS_TOKEN = os.getenv('BITGO_ACCESS_TOKEN')\n",
    "coin = 'tbtc'\n",
    "wallet_id = '61f99635fcba2a0007833544b51169ce'\n",
    "\n",
    "url = f\"{base_url}/api/v2/wallet/balances\"\n",
    "payload = \"\"\n",
    "headers = {\n",
    "  'Content-Type': 'application/json',\n",
    "  'Authorization': f'Bearer {BITGO_ACCESS_TOKEN}'\n",
    "}\n",
    "response = requests.request(\"GET\", url, headers=headers, data=payload).json()\n",
    "print(response)"
   ]
  },
  {
   "cell_type": "code",
   "execution_count": 10,
   "metadata": {},
   "outputs": [
    {
     "name": "stdout",
     "output_type": "stream",
     "text": [
      "12\n"
     ]
    }
   ],
   "source": [
    "'''\n",
    "    List all transfers on all wallets in an enterprise\n",
    "'''\n",
    "\n",
    "enterprise_id = '61f3197ab3b1da000795bc6adf8c063d'\n",
    "BITGO_ACCESS_TOKEN = os.getenv('BITGO_ACCESS_TOKEN')\n",
    "\n",
    "url = f\"{base_url}/api/v2/enterprise/{enterprise_id}/transfer\"\n",
    "payload = \"\"\n",
    "headers = {\n",
    "  'Content-Type': 'application/json',\n",
    "  'Authorization': f'Bearer {BITGO_ACCESS_TOKEN}'\n",
    "}\n",
    "response = requests.request(\"GET\", url, headers=headers, data=payload).json()\n",
    "print(len(response['transfers']))"
   ]
  },
  {
   "cell_type": "code",
   "execution_count": 34,
   "metadata": {},
   "outputs": [
    {
     "name": "stdout",
     "output_type": "stream",
     "text": [
      "{'coin': 'tbtc', 'transfers': []}\n"
     ]
    }
   ],
   "source": [
    "'''\n",
    "    List all transfers on all wallets in an enterprise\n",
    "'''\n",
    "\n",
    "coin = 'tbtc'\n",
    "enterprise_id = '61f3197ab3b1da000795bc6adf8c063d'\n",
    "BITGO_ACCESS_TOKEN = os.getenv('BITGO_ACCESS_TOKEN')\n",
    "\n",
    "url = f\"{base_url}/api/v2/{coin}/transfer?enterpriseId={enterprise_id}&height=0\"\n",
    "payload = \"\"\n",
    "headers = {\n",
    "  'Content-Type': 'application/json',\n",
    "  'Authorization': f'Bearer {BITGO_ACCESS_TOKEN}'\n",
    "}\n",
    "response = requests.request(\"GET\", url, headers=headers, data=payload).json()\n",
    "print(response)"
   ]
  },
  {
   "cell_type": "code",
   "execution_count": 12,
   "metadata": {},
   "outputs": [
    {
     "name": "stdout",
     "output_type": "stream",
     "text": [
      "{'feePerKb': 1000, 'cpfpFeePerKb': 1000, 'numBlocks': 2, 'feeByBlockTarget': {'1': 1000}}\n"
     ]
    }
   ],
   "source": [
    "'''\n",
    "    Get fee estimate\n",
    "'''\n",
    "\n",
    "coin = 'tbtc'\n",
    "enterprise_id = '61f3197ab3b1da000795bc6adf8c063d'\n",
    "BITGO_ACCESS_TOKEN = os.getenv('BITGO_ACCESS_TOKEN')\n",
    "\n",
    "url = f\"{base_url}/api/v2/{coin}/tx/fee\"\n",
    "payload = \"\"\n",
    "headers = {\n",
    "  'Content-Type': 'application/json',\n",
    "  'Authorization': f'Bearer {BITGO_ACCESS_TOKEN}'\n",
    "}\n",
    "response = requests.request(\"GET\", url, headers=headers, data=payload).json()\n",
    "print(response)"
   ]
  },
  {
   "cell_type": "code",
   "execution_count": 40,
   "metadata": {},
   "outputs": [
    {
     "name": "stdout",
     "output_type": "stream",
     "text": [
      "{'entries': [{'address': 'tb1qedln4e73fa3jxlsla0r3kuruvnsed5wljw4wc2a8v6rr7vmcm2dqj3dk38', 'wallet': '61f991871d3e470007a823f00bc33b68', 'value': -2603616, 'valueString': '-2603616'}, {'address': '2NEtSuWCFdr2C5q62AnGj11F72FWPZ9trSH', 'wallet': '61f99635fcba2a0007833544b51169ce', 'value': 500000, 'valueString': '500000', 'isChange': False, 'isPayGo': False}, {'address': 'tb1qfkleuzusc522htgrzfjju82xx99g6x5ja7ury0panjy4pk398t6spckq3f', 'wallet': '61f991871d3e470007a823f00bc33b68', 'value': 2103422, 'valueString': '2103422', 'isChange': True, 'isPayGo': False}], 'id': '620170b0741d8a0007c7c116ed953498', 'coin': 'tbtc', 'wallet': '61f991871d3e470007a823f00bc33b68', 'walletType': 'hot', 'enterprise': '61f3197ab3b1da000795bc6adf8c063d', 'txid': '9487b33570e98e912ea605a5f10877028f805cdb35f104594dc8389f44802ff8', 'height': 999999999, 'heightId': '999999999-620170b0741d8a0007c7c116ed953498', 'date': '2022-02-07T19:19:13.675Z', 'confirmations': 0, 'type': 'send', 'value': -500194, 'valueString': '-500194', 'baseValue': -500000, 'baseValueString': '-500000', 'feeString': '194', 'payGoFee': 0, 'payGoFeeString': '0', 'usd': -221.0563866122, 'usdRate': 44194.13, 'state': 'signed', 'instant': False, 'isReward': False, 'isFee': False, 'tags': ['61f991871d3e470007a823f00bc33b68', '61f3197ab3b1da000795bc6adf8c063d'], 'history': [{'date': '2022-02-07T19:19:13.673Z', 'action': 'signed'}, {'date': '2022-02-07T19:19:12.603Z', 'user': '61f31878b3b1da000795bbe8b52e7e50', 'action': 'created'}], 'signedDate': '2022-02-07T19:19:13.673Z', 'vSize': 190, 'signedTime': '2022-02-07T19:19:13.673Z', 'createdTime': '2022-02-07T19:19:12.603Z', 'label': ''}\n"
     ]
    }
   ],
   "source": [
    "'''\n",
    "    List transfers\n",
    "'''\n",
    "\n",
    "coin = 'tbtc'\n",
    "# wallet_id = '61f99635fcba2a0007833544b51169ce' # Hot\n",
    "wallet_id = '61f991871d3e470007a823f00bc33b68' # Warm\n",
    "BITGO_ACCESS_TOKEN = os.getenv('BITGO_ACCESS_TOKEN')\n",
    "\n",
    "url = f\"{base_url}/api/v2/{coin}/wallet/{wallet_id}/transfer\"\n",
    "payload = \"\"\n",
    "headers = {\n",
    "  'Content-Type': 'application/json',\n",
    "  'Authorization': f'Bearer {BITGO_ACCESS_TOKEN}'\n",
    "}\n",
    "response = requests.request(\"GET\", url, headers=headers, data=payload).json()\n",
    "# print(len(response['transfers']))\n",
    "print(response['transfers'][0])"
   ]
  },
  {
   "cell_type": "code",
   "execution_count": 33,
   "metadata": {},
   "outputs": [
    {
     "name": "stdout",
     "output_type": "stream",
     "text": [
      "{'entries': [{'address': 'tb1qedln4e73fa3jxlsla0r3kuruvnsed5wljw4wc2a8v6rr7vmcm2dqj3dk38', 'wallet': '61f991871d3e470007a823f00bc33b68', 'value': -2603616, 'valueString': '-2603616'}, {'address': '2NEtSuWCFdr2C5q62AnGj11F72FWPZ9trSH', 'value': 500000, 'valueString': '500000', 'isChange': False, 'isPayGo': False}, {'address': 'tb1qfkleuzusc522htgrzfjju82xx99g6x5ja7ury0panjy4pk398t6spckq3f', 'wallet': '61f991871d3e470007a823f00bc33b68', 'value': 2103422, 'valueString': '2103422', 'isChange': True, 'isPayGo': False}], 'id': '620170b0741d8a0007c7c116ed953498', 'coin': 'tbtc', 'wallet': '61f991871d3e470007a823f00bc33b68', 'walletType': 'hot', 'enterprise': '61f3197ab3b1da000795bc6adf8c063d', 'txid': '9487b33570e98e912ea605a5f10877028f805cdb35f104594dc8389f44802ff8', 'height': 999999999, 'heightId': '999999999-620170b0741d8a0007c7c116ed953498', 'date': '2022-02-07T19:19:13.675Z', 'confirmations': 0, 'type': 'send', 'value': -500194, 'valueString': '-500194', 'baseValue': -500000, 'baseValueString': '-500000', 'feeString': '194', 'payGoFee': 0, 'payGoFeeString': '0', 'usd': -221.0563866122, 'usdRate': 44194.13, 'state': 'signed', 'instant': False, 'isReward': False, 'isFee': False, 'tags': ['61f991871d3e470007a823f00bc33b68', '61f3197ab3b1da000795bc6adf8c063d'], 'history': [{'date': '2022-02-07T19:19:13.673Z', 'action': 'signed'}, {'date': '2022-02-07T19:19:12.603Z', 'user': '61f31878b3b1da000795bbe8b52e7e50', 'action': 'created'}], 'signedDate': '2022-02-07T19:19:13.673Z', 'vSize': 190, 'signedTime': '2022-02-07T19:19:13.673Z', 'createdTime': '2022-02-07T19:19:12.603Z', 'label': ''}\n"
     ]
    }
   ],
   "source": [
    "'''\n",
    "    List transfer by ID\n",
    "'''\n",
    "\n",
    "coin = 'tbtc'\n",
    "# wallet_id = '61f99635fcba2a0007833544b51169ce' # Hot\n",
    "wallet_id = '61f991871d3e470007a823f00bc33b68' # Warm\n",
    "BITGO_ACCESS_TOKEN = os.getenv('BITGO_ACCESS_TOKEN')\n",
    "transfer_id = '620170b0741d8a0007c7c116ed953498'\n",
    "\n",
    "url = f\"{base_url}/api/v2/{coin}/wallet/{wallet_id}/transfer/{transfer_id}\"\n",
    "payload = \"\"\n",
    "headers = {\n",
    "  'Content-Type': 'application/json',\n",
    "  'Authorization': f'Bearer {BITGO_ACCESS_TOKEN}'\n",
    "}\n",
    "response = requests.request(\"GET\", url, headers=headers, data=payload).json()\n",
    "print(response)\n",
    "# ic(response)"
   ]
  },
  {
   "cell_type": "code",
   "execution_count": 15,
   "metadata": {},
   "outputs": [
    {
     "name": "stdout",
     "output_type": "stream",
     "text": [
      "{'webhooks': []}\n"
     ]
    }
   ],
   "source": [
    "'''\n",
    "    Lst wallet webhooks\n",
    "'''\n",
    "\n",
    "coin = 'tbtc'\n",
    "wallet_id = '61f99635fcba2a0007833544b51169ce' # Hot\n",
    "# wallet_id = '61f991871d3e470007a823f00bc33b68' # Warm\n",
    "BITGO_ACCESS_TOKEN = os.getenv('BITGO_ACCESS_TOKEN')\n",
    "\n",
    "url = f\"{base_url}/api/v2/{coin}/wallet/{wallet_id}/webhooks\"\n",
    "payload = {\n",
    "}\n",
    "payload =  json.dumps(payload)\n",
    "headers = {\n",
    "  'Content-Type': 'application/json',\n",
    "  'Authorization': f'Bearer {BITGO_ACCESS_TOKEN}'\n",
    "}\n",
    "response = requests.request(\"GET\", url, headers=headers, data=payload).json()\n",
    "print(response)\n",
    "# ic(response)"
   ]
  },
  {
   "cell_type": "code",
   "execution_count": 16,
   "metadata": {},
   "outputs": [],
   "source": [
    "'''\n",
    "    Add wallet webhook\n",
    "'''\n",
    "\n",
    "coin = 'tbtc'\n",
    "# wallet_id = '61f99635fcba2a0007833544b51169ce' # Hot\n",
    "wallet_id = '61f991871d3e470007a823f00bc33b68' # Warm\n",
    "BITGO_ACCESS_TOKEN = os.getenv('BITGO_ACCESS_TOKEN')\n",
    "\n",
    "url = f\"{base_url}/api/v2/{coin}/wallet/{wallet_id}/webhooks\"\n",
    "payload = {\n",
    "    'type':'transfer',\n",
    "    'url':'https://a894df61d1de.ngrok.io/process_callback'\n",
    "}\n",
    "payload =  json.dumps(payload)\n",
    "headers = {\n",
    "  'Content-Type': 'application/json',\n",
    "  'Authorization': f'Bearer {BITGO_ACCESS_TOKEN}'\n",
    "}\n",
    "# response = requests.request(\"POST\", url, headers=headers, data=payload).json()\n",
    "# print(response)\n",
    "# ic(response)"
   ]
  },
  {
   "cell_type": "code",
   "execution_count": 26,
   "metadata": {},
   "outputs": [
    {
     "name": "stdout",
     "output_type": "stream",
     "text": [
      "{'session': {'id': '61f98700817cf000075b01a7e9bd5614', 'client': 'bitgo', 'user': '61f31878b3b1da000795bbe8b52e7e50', 'scope': ['openid', 'profile', 'wallet_view_all', 'wallet_spend_all', 'wallet_manage_all', 'wallet_create', 'pending_approval_update', 'portfolio_view', 'trade_view', 'trade_trade'], 'created': '2022-02-01T19:16:16.454Z', 'expires': '2032-01-30T19:16:16.454Z', 'ip': '96.53.32.158', 'ipRestrict': [], 'origin': 'app.bitgo-test.com', 'label': 'Hongbin-test', 'isExtensible': False, 'unlock': {'time': '2022-02-07T19:13:12.180Z', 'expires': '2022-02-07T19:23:12.180Z', 'txValueLimit': 5000000000, 'txValue': 0, 'spendingLimits': {}, 'txCount': 0}}}\n"
     ]
    }
   ],
   "source": [
    "'''\n",
    "    Unlock session\n",
    "'''\n",
    "\n",
    "coin = 'tbtc'\n",
    "# wallet_id = '61f99635fcba2a0007833544b51169ce' # Hot\n",
    "wallet_id = '61f991871d3e470007a823f00bc33b68' # Warm\n",
    "BITGO_ACCESS_TOKEN = os.getenv('BITGO_ACCESS_TOKEN')\n",
    "\n",
    "url = f\"{base_url}/api/v2/user/unlock/\"\n",
    "payload = {\n",
    "  \"duration\": 600,\n",
    "  \"otp\": \"000000\"\n",
    "}\n",
    "payload =  json.dumps(payload)\n",
    "headers = {\n",
    "  'Content-Type': 'application/json',\n",
    "  'Authorization': f'Bearer {BITGO_ACCESS_TOKEN}'\n",
    "}\n",
    "response = requests.request(\"POST\", url, headers=headers, data=payload).json()\n",
    "print(response)\n",
    "# ic(response)"
   ]
  },
  {
   "cell_type": "code",
   "execution_count": 18,
   "metadata": {},
   "outputs": [],
   "source": [
    "'''\n",
    "    Create address\n",
    "'''\n",
    "\n",
    "coin = 'tbtc'\n",
    "# wallet_id = '61f99635fcba2a0007833544b51169ce' # Hot\n",
    "wallet_id = '61f991871d3e470007a823f00bc33b68' # Warm\n",
    "BITGO_ACCESS_TOKEN = os.getenv('BITGO_ACCESS_TOKEN')\n",
    "\n",
    "url = f\"{base_url}/api/v2/{coin}/wallet/{wallet_id}/address\"\n",
    "payload = {\n",
    "}\n",
    "payload =  json.dumps(payload)\n",
    "headers = {\n",
    "  'Content-Type': 'application/json',\n",
    "  'Authorization': f'Bearer {BITGO_ACCESS_TOKEN}'\n",
    "}\n",
    "# response = requests.request(\"POST\", url, headers=headers, data=payload).json()\n",
    "# print(response)\n",
    "# ic(response)"
   ]
  },
  {
   "cell_type": "code",
   "execution_count": 19,
   "metadata": {},
   "outputs": [
    {
     "name": "stdout",
     "output_type": "stream",
     "text": [
      "{'id': '61fd6773675d1000076e8cb0b267e61b', 'address': '2MtddzF76GoxJJrcK6E5spXwt1uGMrBfTwr', 'chain': 10, 'index': 6, 'coin': 'tbtc', 'wallet': '61f991871d3e470007a823f00bc33b68', 'coinSpecific': {'redeemScript': '00208439600353451e34f419081f6ece9303756988f6c3e9fa780cfa50ad0b75dfb7', 'witnessScript': '522102564efcebb21d5be3d168fda71d3bb19f80c15fad523ea12d8d875ecdcf2806ac2103c4b83f4e123f2dc98b2be273fbb1ee88782c8bccb587b24ea7959453dcfdc73621028c313528bd6dfc295c2d71c35ec734d76c3f2d107329dc4f9c49aeb4880b153853ae'}, 'balance': {'balance': 0, 'balanceString': '0', 'totalReceived': 0, 'totalSent': 0, 'confirmedBalanceString': '0', 'spendableBalanceString': '0'}}\n"
     ]
    }
   ],
   "source": [
    "'''\n",
    "    Get address\n",
    "'''\n",
    "\n",
    "coin = 'tbtc'\n",
    "# wallet_id = '61f99635fcba2a0007833544b51169ce' # Hot\n",
    "wallet_id = '61f991871d3e470007a823f00bc33b68' # Warm\n",
    "BITGO_ACCESS_TOKEN = os.getenv('BITGO_ACCESS_TOKEN')\n",
    "address_id = '2MtddzF76GoxJJrcK6E5spXwt1uGMrBfTwr'\n",
    "\n",
    "url = f\"{base_url}/api/v2/{coin}/wallet/{wallet_id}/address/{address_id}\"\n",
    "payload = {\n",
    "}\n",
    "payload =  json.dumps(payload)\n",
    "headers = {\n",
    "  'Content-Type': 'application/json',\n",
    "  'Authorization': f'Bearer {BITGO_ACCESS_TOKEN}'\n",
    "}\n",
    "response = requests.request(\"GET\", url, headers=headers, data=payload).json()\n",
    "print(response)\n",
    "# ic(response)"
   ]
  },
  {
   "cell_type": "code",
   "execution_count": 20,
   "metadata": {},
   "outputs": [
    {
     "name": "stdout",
     "output_type": "stream",
     "text": [
      "{}\n"
     ]
    }
   ],
   "source": [
    "'''\n",
    "    User login\n",
    "'''\n",
    "\n",
    "BITGO_ACCESS_TOKEN = os.getenv('BITGO_ACCESS_TOKEN')\n",
    "\n",
    "\n",
    "url = f\"{base_url}/api/v2/user/login\"\n",
    "payload = {\n",
    "  \"email\": \"hongbin@balloonbox.io\",\n",
    "  \"otp\": \"000000\",\n",
    "  \"password\": \"Ball()()n\"\n",
    "}\n",
    "payload =  json.dumps(payload)\n",
    "headers = {\n",
    "  'Content-Type': 'application/json',\n",
    "  'Authorization': f'Bearer {BITGO_ACCESS_TOKEN}'\n",
    "}\n",
    "response = requests.request(\"POST\", url, headers=headers, data=payload).json()\n",
    "print(response)\n",
    "# ic(response)"
   ]
  },
  {
   "cell_type": "code",
   "execution_count": 25,
   "metadata": {},
   "outputs": [
    {
     "name": "stdout",
     "output_type": "stream",
     "text": [
      "{'status': 'express server is ok!'}\n"
     ]
    }
   ],
   "source": [
    "'''\n",
    "    Ping BitGo Express\n",
    "'''\n",
    "\n",
    "BITGO_ACCESS_TOKEN = os.getenv('BITGO_ACCESS_TOKEN')\n",
    "\n",
    "\n",
    "# url = f\"{base_url}/api/v2/ping\"\n",
    "url = f\"{base_url}/api/v2/pingexpress\"\n",
    "payload = {\n",
    "}\n",
    "payload =  json.dumps(payload)\n",
    "headers = {\n",
    "  'Content-Type': 'application/json',\n",
    "  'Authorization': f'Bearer {BITGO_ACCESS_TOKEN}'\n",
    "}\n",
    "response = requests.request(\"GET\", url, headers=headers, data=payload).json()\n",
    "print(response)\n",
    "# ic(response)"
   ]
  },
  {
   "cell_type": "code",
   "execution_count": null,
   "metadata": {},
   "outputs": [],
   "source": [
    "'''\n",
    "    Send transaction !!!!!!!!!!!!!!!!!!!!!!!!!!!!!!!!!!!!!!!!!!!!!!!!Problem!!!!!!!!!!!!!!!!!!!!!!!!!!!!!!!!!!!!!!!!!!!!!!!!\n",
    "'''\n",
    "\n",
    "coin = 'tbtc'\n",
    "wallet_id = '61f99635fcba2a0007833544b51169ce' # Hot\n",
    "# wallet_id = '61f991871d3e470007a823f00bc33b68' # Warm\n",
    "BITGO_ACCESS_TOKEN = os.getenv('BITGO_ACCESS_TOKEN')\n",
    "\n",
    "url = f\"https://app.bitgo-test.com/api/v2/{coin}/wallet/{wallet_id}/sendcoins\"\n",
    "payload = {\n",
    "}\n",
    "payload =  json.dumps(payload)\n",
    "headers = {\n",
    "  'Content-Type': 'application/json',\n",
    "  'Authorization': f'Bearer {BITGO_ACCESS_TOKEN}'\n",
    "}\n",
    "response = requests.request(\"POST\", url, headers=headers, data=payload).json()\n",
    "print(response)\n",
    "# ic(response)"
   ]
  },
  {
   "cell_type": "code",
   "execution_count": null,
   "metadata": {},
   "outputs": [],
   "source": []
  }
 ],
 "metadata": {
  "interpreter": {
   "hash": "a88d1ff2cb1234b8580dca0ee13ebf9e6572d34a52c136b67239a218f87888c3"
  },
  "kernelspec": {
   "display_name": "Python 3.9.7 64-bit ('mobie': conda)",
   "language": "python",
   "name": "python3"
  },
  "language_info": {
   "codemirror_mode": {
    "name": "ipython",
    "version": 3
   },
   "file_extension": ".py",
   "mimetype": "text/x-python",
   "name": "python",
   "nbconvert_exporter": "python",
   "pygments_lexer": "ipython3",
   "version": "3.9.7"
  },
  "orig_nbformat": 4
 },
 "nbformat": 4,
 "nbformat_minor": 2
}
