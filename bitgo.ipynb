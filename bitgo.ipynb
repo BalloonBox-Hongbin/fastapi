{
 "cells": [
  {
   "cell_type": "markdown",
   "metadata": {},
   "source": [
    "## List addresses "
   ]
  },
  {
   "cell_type": "code",
   "execution_count": 2,
   "metadata": {},
   "outputs": [
    {
     "name": "stdout",
     "output_type": "stream",
     "text": [
      "{\"coin\":\"tbtc\",\"totalAddressCount\":1,\"addresses\":[{\"id\":\"61eeff0a91c4230007be7f734a20fa7c\",\"address\":\"2NF5UwT9JEqE56dbsdPQeXkjBHLQ69ULf1G\",\"chain\":0,\"index\":0,\"coin\":\"tbtc\",\"wallet\":\"61eeff0a91c4230007be7f65f1de340b\",\"coinSpecific\":{\"redeemScript\":\"522103e15ff9cf727e903c340262bb85472066802e38e3cf5f0ca8bc9c89dc901f917c210361a9b4dc77165bbf6fc7a8a75284cf5b42e378778b7c0b4eea899e0ee789c3d221037cb42f390b52dfc944d1d34980042ce1681cbb3e387faea7ca0f0c517a8230b853ae\"}}],\"count\":1}\n"
     ]
    }
   ],
   "source": [
    "import requests\n",
    "import json\n",
    "\n",
    "coin = 'tbtc'\n",
    "walletId = '61eeff0a91c4230007be7f65f1de340b'\n",
    "token = 'c54357c4c9b6de0eaf66510a21c7bf3eb149bf753e3f206c1d5052505512e72d'\n",
    "\n",
    "\n",
    "url = f\"https://app.bitgo-test.com/api/v2/{coin}/wallet/{walletId}/addresses\"\n",
    "payload = \"\"\n",
    "headers = {\n",
    "  'Content-Type': 'application/json',\n",
    "  'Authorization': f'Bearer {token}'\n",
    "}\n",
    "response = requests.request(\"GET\", url, headers=headers, data=payload)\n",
    "print(response.text)\n"
   ]
  },
  {
   "cell_type": "code",
   "execution_count": null,
   "metadata": {},
   "outputs": [],
   "source": [
    "import requests\n",
    "import json\n",
    "\n",
    "coin = 'teth'\n",
    "token = 'c54357c4c9b6de0eaf66510a21c7bf3eb149bf753e3f206c1d5052505512e72d'\n",
    "\n",
    "url = f\"https://app.bitgo-test.com/api/v2/{coin}/wallet/generate\"\n",
    "payload = \"\"\n",
    "headers = {\n",
    "  'Content-Type': 'application/json',\n",
    "  'Authorization': f'Bearer {token}'\n",
    "}\n",
    "response = requests.request(\"GET\", url, headers=headers, data=payload)\n",
    "print(response.text)"
   ]
  },
  {
   "cell_type": "code",
   "execution_count": 3,
   "metadata": {},
   "outputs": [
    {
     "name": "stdout",
     "output_type": "stream",
     "text": [
      "{\"error\":\"You have called a BitGo Express endpoint but this is the BitGo server. Please have a look at the BitGo Express documentation: https://www.bitgo.com/api/v2/#bitgo-express-rest-api\",\"name\":\"ApiError\",\"requestId\":\"ckytgaj1x0j4h07tneai2dmg5\",\"context\":{}}\n"
     ]
    }
   ],
   "source": [
    "import requests\n",
    "import json\n",
    "\n",
    "coin = 'tbtc'\n",
    "token = 'c54357c4c9b6de0eaf66510a21c7bf3eb149bf753e3f206c1d5052505512e72d'\n",
    "\n",
    "url = f\"https://app.bitgo-test.com/api/v2/{coin}/wallet/generate\"\n",
    "payload = \"\"\n",
    "headers = {\n",
    "  'Content-Type': 'application/json',\n",
    "  'Authorization': f'Bearer {token}'\n",
    "}\n",
    "response = requests.request(\"POST\", url, headers=headers, data=payload)\n",
    "print(response.text)"
   ]
  },
  {
   "cell_type": "code",
   "execution_count": null,
   "metadata": {},
   "outputs": [],
   "source": []
  }
 ],
 "metadata": {
  "interpreter": {
   "hash": "a88d1ff2cb1234b8580dca0ee13ebf9e6572d34a52c136b67239a218f87888c3"
  },
  "kernelspec": {
   "display_name": "Python 3.9.7 64-bit ('mobie': conda)",
   "language": "python",
   "name": "python3"
  },
  "language_info": {
   "codemirror_mode": {
    "name": "ipython",
    "version": 3
   },
   "file_extension": ".py",
   "mimetype": "text/x-python",
   "name": "python",
   "nbconvert_exporter": "python",
   "pygments_lexer": "ipython3",
   "version": "3.9.7"
  },
  "orig_nbformat": 4
 },
 "nbformat": 4,
 "nbformat_minor": 2
}
